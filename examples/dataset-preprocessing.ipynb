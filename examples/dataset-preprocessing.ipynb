{
 "cells": [
  {
   "cell_type": "markdown",
   "metadata": {},
   "source": [
    "## Preprocessing Examples"
   ]
  },
  {
   "cell_type": "code",
   "execution_count": 22,
   "metadata": {},
   "outputs": [],
   "source": [
    "\n",
    "\n",
    "from importlib.util import find_spec\n",
    "if find_spec(\"preprocessing\") is None:\n",
    "    import sys\n",
    "    sys.path.append('..')\n",
    "\n",
    "\n",
    "from src.preprocessing.transform import transform_data\n",
    "from src.preprocessing.load import load_data\n",
    "from src.preprocessing.clean import preprocess_dataset\n",
    "from src.toolkit.engine import Auto_cluster\n",
    "\n",
    "data_path = \"/Users/servandodavidtorresgarcia/Servando/projects/cluster-toolkit/data/Mall_Customers.csv\"\n",
    "\n"
   ]
  },
  {
   "cell_type": "code",
   "execution_count": 12,
   "metadata": {},
   "outputs": [],
   "source": [
    "raw = load_data(data_path)\n",
    "\n"
   ]
  },
  {
   "cell_type": "code",
   "execution_count": 13,
   "metadata": {},
   "outputs": [],
   "source": [
    "df = transform_data(raw)"
   ]
  },
  {
   "cell_type": "code",
   "execution_count": 16,
   "metadata": {},
   "outputs": [
    {
     "name": "stdout",
     "output_type": "stream",
     "text": [
      "1 columns were label encoded with LabelEncoder.\n",
      "OneHotEncoding with a 5 dimension treshold\n",
      " Data Shape:  (200, 5)\n",
      "Your selected dataframe has 5 columns.\n",
      "There are 0 columns that have missing values.\n",
      "Handling missing values..\n",
      "Bringing features onto the same scale\n",
      "Your dataset has been processed succesfully, it took 0.048605918884277344 seconds\n"
     ]
    }
   ],
   "source": [
    "df_ready , miss_val = preprocess_dataset(df)"
   ]
  },
  {
   "cell_type": "code",
   "execution_count": 10,
   "metadata": {},
   "outputs": [],
   "source": [
    "from sklearn.cluster import KMeans, DBSCAN\n",
    "estimators_short = [{'estimator': KMeans, 'args': (), 'kwargs': KMeans.get_params(KMeans())},\n",
    "                         {'estimator': DBSCAN, 'args': (), 'kwargs': DBSCAN.get_params(DBSCAN())}]\n",
    "                         "
   ]
  },
  {
   "cell_type": "code",
   "execution_count": 23,
   "metadata": {},
   "outputs": [
    {
     "name": "stdout",
     "output_type": "stream",
     "text": [
      "-------------- KMeans metrics --------------\n",
      "\tSilhouette Coefficient: 0.365\n",
      "-------------- DBSCAN metrics --------------\n",
      "\tSilhouette Coefficient: 0.276\n"
     ]
    }
   ],
   "source": [
    "learner = Auto_cluster(estimators_short)\n",
    "pred, metrics = learner.fit_predict(df_ready)"
   ]
  }
 ],
 "metadata": {
  "interpreter": {
   "hash": "f7593dc81c4c5f89d7c3d0d53e1886cfdbb332bb25fabe84412f35200ebaf024"
  },
  "kernelspec": {
   "display_name": "Python 3.9.7 64-bit ('cluster-t': conda)",
   "language": "python",
   "name": "python3"
  },
  "language_info": {
   "codemirror_mode": {
    "name": "ipython",
    "version": 3
   },
   "file_extension": ".py",
   "mimetype": "text/x-python",
   "name": "python",
   "nbconvert_exporter": "python",
   "pygments_lexer": "ipython3",
   "version": "3.9.7"
  },
  "orig_nbformat": 4
 },
 "nbformat": 4,
 "nbformat_minor": 2
}
